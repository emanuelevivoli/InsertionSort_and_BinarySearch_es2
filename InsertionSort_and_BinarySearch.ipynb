{
 "cells": [
  {
   "cell_type": "markdown",
   "metadata": {},
   "source": [
    "\\newpage\n",
    "# INSERTION SORT"
   ]
  },
  {
   "cell_type": "markdown",
   "metadata": {},
   "source": [
    "## Introduzione\n",
    "\n",
    "L’ Insertion Sort é un algoritmo relativamete semplice per ordinare un array e molto efficente per ordinare un piccolo numero di elementi. É un algoritmo chiamato \"in place\", cioé ordina l’array senza doverne creare un altro di appoggio, quindi risparmia memoria. \n",
    "\n",
    "Non é molto diverso dal modo in cui un essere umano, spesso, ordina un mazzo di carte nella propria mano."
   ]
  },
  {
   "cell_type": "markdown",
   "metadata": {},
   "source": [
    "## Ordinare un array numerico\n",
    "\n",
    "• La sequenza é logicamente suddivisa in due parti: una ordinata ed una non ordinata (all’inizio la sottosequenza ordinata sará formata solamente dal primo valore)\n",
    "\n",
    "• Viene preso un valore alla volta dalla sottosequenza non ordinata e si inserisce nella sottosequenza ordinata\n",
    "\n",
    "• Per trovare la giusta posizione del valore appena prelevato dalla sottosequenza non ordinata, confrontiamo il valore con gli altri presenti in quella ordinata, da destra verso sinistra. Ogni valore piú grande verrá spostato verso destra in modo da fare posto al valore da inserire."
   ]
  },
  {
   "cell_type": "markdown",
   "metadata": {},
   "source": [
    "## Algoritmo"
   ]
  },
  {
   "cell_type": "code",
   "execution_count": 31,
   "metadata": {
    "collapsed": true
   },
   "outputs": [],
   "source": [
    "A = [21,100,9,43,33,73,19,93,1,80]"
   ]
  },
  {
   "cell_type": "code",
   "execution_count": 32,
   "metadata": {
    "collapsed": false
   },
   "outputs": [
    {
     "name": "stdout",
     "output_type": "stream",
     "text": [
      "[21, 100, 9, 43, 33, 73, 19, 93, 1, 80]\n[9, 21, 100, 43, 33, 73, 19, 93, 1, 80]\n[9, 21, 43, 100, 33, 73, 19, 93, 1, 80]\n[9, 21, 33, 43, 100, 73, 19, 93, 1, 80]\n[9, 21, 33, 43, 73, 100, 19, 93, 1, 80]\n[9, 19, 21, 33, 43, 73, 100, 93, 1, 80]\n[9, 19, 21, 33, 43, 73, 93, 100, 1, 80]\n[1, 9, 19, 21, 33, 43, 73, 93, 100, 80]\n[1, 9, 19, 21, 33, 43, 73, 80, 93, 100]\n"
     ]
    }
   ],
   "source": [
    "for j in range(1,10):\n",
    "    key = A[j]\n",
    "    i=j-1\n",
    "    while (i>=0 and A[i]>key):\n",
    "        A[i+1]=A[i]\n",
    "        i-=1\n",
    "    A[i+1]=key\n",
    "    print A"
   ]
  },
  {
   "cell_type": "markdown",
   "metadata": {},
   "source": [
    "\\newpage\n",
    "# BINARY SEARCH"
   ]
  },
  {
   "cell_type": "markdown",
   "metadata": {},
   "source": [
    "## Introduzione\n",
    "\n",
    "L'algoritmo Binary Search (Ricerca Binaria o Dicotomica) è simile al metodo usato per trovare una parola sul dizionario: sapendo che il vocabolario è ordinato alfabeticamente, l'idea è quella di iniziare la ricerca non dal primo elemento, ma da quello centrale, cioè a metà del dizionario. \n",
    "Si confronta questo elemento con quello cercato:\n",
    "\n",
    "• se corrisponde, la ricerca termina indicando che l'elemento è stato trovato;\n",
    "\n",
    "• se è superiore, la ricerca viene ripetuta sugli elementi precedenti (ovvero sulla prima metà del dizionario), scartando quelli successivi;\n",
    "\n",
    "• se invece è inferiore, la ricerca viene ripetuta sugli elementi successivi (ovvero sulla seconda metà del dizionario), scartando quelli precedenti.\n",
    "\n",
    "• se si arriva al punto che tutti gli elementi vengono scartati, la ricerca termina indicando che il valore non è stato trovato.\n",
    "\n",
    "L'algoritmo trova applicazione anche per realizzare un programma che indovina un numero naturale (casuale o scelto dall'utente) compreso in un intervallo. Infatti si può ricondurre tale situazione alla ricerca di un elemento su un insieme ordinato che ha, come dati, tutti i numeri naturali compresi nell'intervallo, ed è proprio il nostro caso."
   ]
  },
  {
   "cell_type": "markdown",
   "metadata": {},
   "source": [
    "##Algoritmo\n",
    "\n",
    "Nota: L'algoritmo è stato sviluppato mediante un implementazione ricorsiva."
   ]
  },
  {
   "cell_type": "code",
   "execution_count": 33,
   "metadata": {
    "collapsed": false
   },
   "outputs": [],
   "source": [
    "def BinarySearch(A,i,n,v):\n",
    "    if i>n or v<A[i] or v>A[n-1]:\n",
    "        return -1\n",
    "    m = (n+i) / 2\n",
    "    if A[m] == v:\n",
    "        return m\n",
    "    elif A[m] > v:\n",
    "        return BinarySearch(A,i,m,v)\n",
    "    else:\n",
    "        return BinarySearch(A,m+1,n,v)"
   ]
  },
  {
   "cell_type": "markdown",
   "metadata": {},
   "source": [
    "Ricerca del valore 73"
   ]
  },
  {
   "cell_type": "code",
   "execution_count": 34,
   "metadata": {
    "collapsed": false
   },
   "outputs": [
    {
     "name": "stdout",
     "output_type": "stream",
     "text": [
      "Valore trovato in posizione 6\n"
     ]
    }
   ],
   "source": [
    "v = 73\n",
    "\n",
    "pos = BinarySearch(A,0,len(A),v)\n",
    "if(pos==-1):\n",
    "    print \"Valore non trovato\"\n",
    "else:\n",
    "    print \"Valore trovato in posizione \"+str(pos)"
   ]
  }
 ],
 "metadata": {
  "kernelspec": {
   "display_name": "Python 2",
   "language": "python",
   "name": "python2"
  },
  "language_info": {
   "codemirror_mode": {
    "name": "ipython",
    "version": 2.0
   },
   "file_extension": ".py",
   "mimetype": "text/x-python",
   "name": "python",
   "nbconvert_exporter": "python",
   "pygments_lexer": "ipython2",
   "version": "2.7.13"
  }
 },
 "nbformat": 4,
 "nbformat_minor": 0
}